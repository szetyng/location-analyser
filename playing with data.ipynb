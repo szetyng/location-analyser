{
 "cells": [
  {
   "cell_type": "code",
   "execution_count": 1,
   "metadata": {},
   "outputs": [],
   "source": [
    "import json\n",
    "import numpy as np\n",
    "import pandas as pd\n",
    "import pickle"
   ]
  },
  {
   "cell_type": "code",
   "execution_count": 2,
   "metadata": {},
   "outputs": [],
   "source": [
    "with open('data/LocationHistory.json', 'r') as f:\n",
    "    data = json.loads(f.read())"
   ]
  },
  {
   "cell_type": "code",
   "execution_count": 4,
   "metadata": {},
   "outputs": [],
   "source": [
    "pickle_out = open('data/pickle.sav', 'wb')\n",
    "pickle.dump(data, pickle_out)\n",
    "pickle_out.close()"
   ]
  },
  {
   "cell_type": "code",
   "execution_count": null,
   "metadata": {},
   "outputs": [],
   "source": []
  },
  {
   "cell_type": "code",
   "execution_count": 5,
   "metadata": {},
   "outputs": [],
   "source": [
    "pickle_in = open('data/pickle.sav', 'rb')\n",
    "data = pickle.load(pickle_in)"
   ]
  },
  {
   "cell_type": "code",
   "execution_count": 3,
   "metadata": {},
   "outputs": [
    {
     "data": {
      "text/plain": "[{'timestampMs': '1381075481660',\n  'latitudeE7': 53765643,\n  'longitudeE7': 1003002532,\n  'accuracy': 25},\n {'timestampMs': '1381075541986',\n  'latitudeE7': 53765643,\n  'longitudeE7': 1003002532,\n  'accuracy': 25},\n {'timestampMs': '1381075661725',\n  'latitudeE7': 53765659,\n  'longitudeE7': 1003002534,\n  'accuracy': 22},\n {'timestampMs': '1381075783027',\n  'latitudeE7': 53765652,\n  'longitudeE7': 1003002527,\n  'accuracy': 23},\n {'timestampMs': '1381075842993',\n  'latitudeE7': 53765633,\n  'longitudeE7': 1003002537,\n  'accuracy': 24},\n {'timestampMs': '1381075903052',\n  'latitudeE7': 53765633,\n  'longitudeE7': 1003002537,\n  'accuracy': 24},\n {'timestampMs': '1381075963113',\n  'latitudeE7': 53765640,\n  'longitudeE7': 1003002531,\n  'accuracy': 25,\n  'activity': [{'timestampMs': '1381102997867',\n    'activity': [{'type': 'STILL', 'confidence': 100}]}]},\n {'timestampMs': '1381130392295',\n  'latitudeE7': 53763433,\n  'longitudeE7': 1003005231,\n  'accuracy': 32,\n  'activity': [{'timestampMs': '1381129973236',\n    'activity': [{'type': 'STILL', 'confidence': 100}]}]},\n {'timestampMs': '1381130452306',\n  'latitudeE7': 53764648,\n  'longitudeE7': 1003006200,\n  'accuracy': 27},\n {'timestampMs': '1381130514621',\n  'latitudeE7': 53764648,\n  'longitudeE7': 1003006203,\n  'accuracy': 24}]"
     },
     "execution_count": 3,
     "metadata": {},
     "output_type": "execute_result"
    }
   ],
   "source": [
    "# data is a json file with only one key - 'locations'\n",
    "data = data['locations']\n",
    "data[:10]"
   ]
  }
 ],
 "metadata": {
  "kernelspec": {
   "display_name": "Python 3",
   "language": "python",
   "name": "python3"
  },
  "language_info": {
   "codemirror_mode": {
    "name": "ipython",
    "version": 3
   },
   "file_extension": ".py",
   "mimetype": "text/x-python",
   "name": "python",
   "nbconvert_exporter": "python",
   "pygments_lexer": "ipython3",
   "version": "3.7.0-final"
  }
 },
 "nbformat": 4,
 "nbformat_minor": 2
}